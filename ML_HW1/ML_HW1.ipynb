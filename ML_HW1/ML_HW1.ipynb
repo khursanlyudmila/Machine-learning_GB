{
  "nbformat": 4,
  "nbformat_minor": 0,
  "metadata": {
    "colab": {
      "provenance": []
    },
    "kernelspec": {
      "name": "python3",
      "display_name": "Python 3"
    },
    "language_info": {
      "name": "python"
    }
  },
  "cells": [
    {
      "cell_type": "markdown",
      "source": [
        "**Машинное обучение (семинары в записи)**\n",
        "\n",
        "***Урок 1. Функция потерь. Загрузка датасетов***\n",
        "\n",
        "Вам дан набор данных с фактическими значениями целевой переменной и предсказанными значениями:\n",
        "\n",
        "\n",
        "Фактические значения\n",
        "\n",
        "actual_values = np.array([100, 150, 200, 250])\n",
        "\n",
        "\n",
        "Предсказанные значения\n",
        "\n",
        "predicted_values = np.array([90, 140, 180, 270])\n",
        "\n",
        "Задача студентов состоит в расчете среднеквадратичной ошибки (MSE) и средней абсолютной ошибки (MAE) для данного набора данных без использования модели. Студенты должны использовать правильные значения фактической переменной и предсказанные значения для расчета функций потерь. Они также должны проанализировать результаты и объяснить, какие значения функции потерь указывают на лучшую точность предсказания."
      ],
      "metadata": {
        "id": "zW86AtKWy286"
      }
    },
    {
      "cell_type": "code",
      "source": [
        "# С использованием библиотеки Numpy\n",
        "\n",
        "import numpy as np\n",
        "\n",
        "# Фактические и предсказанные значения\n",
        "actual_values = np.array([100, 150, 200, 250])\n",
        "predicted_values = np.array([90, 140, 180, 270])\n",
        "\n",
        "# Вычисление MSE\n",
        "mse = np.mean((actual_values - predicted_values) ** 2)\n",
        "\n",
        "# Вычисление MAE\n",
        "mae = np.mean(np.abs(actual_values - predicted_values))\n",
        "\n",
        "# Вывод результатов\n",
        "print(f\"Среднеквадратичная ошибка (MSE): {mse}\")\n",
        "print(f\"Средняя абсолютная ошибка (MAE): {mae}\")"
      ],
      "metadata": {
        "colab": {
          "base_uri": "https://localhost:8080/"
        },
        "id": "7jQhjkWPy7wP",
        "outputId": "8f637d5e-1a26-4cb0-e855-80624cd956c6"
      },
      "execution_count": 1,
      "outputs": [
        {
          "output_type": "stream",
          "name": "stdout",
          "text": [
            "Среднеквадратичная ошибка (MSE): 250.0\n",
            "Средняя абсолютная ошибка (MAE): 15.0\n"
          ]
        }
      ]
    },
    {
      "cell_type": "code",
      "source": [
        "# Без библиотеки Numpy\n",
        "\n",
        "# Фактические и предсказанные значения\n",
        "actual_values = [100, 150, 200, 250]\n",
        "predicted_values = [90, 140, 180, 270]\n",
        "\n",
        "# Вычисление MSE\n",
        "mse = sum((a - p) ** 2 for a, p in zip(actual_values, predicted_values)) / len(actual_values)\n",
        "\n",
        "# Вычисление MAE\n",
        "mae = sum(abs(a - p) for a, p in zip(actual_values, predicted_values)) / len(actual_values)\n",
        "\n",
        "# Вывод результатов\n",
        "print(f\"Среднеквадратичная ошибка (MSE): {mse}\")\n",
        "print(f\"Средняя абсолютная ошибка (MAE): {mae}\")"
      ],
      "metadata": {
        "colab": {
          "base_uri": "https://localhost:8080/"
        },
        "id": "dHBcfggLzzjf",
        "outputId": "fdb8ac1d-46e5-4541-afbd-9bbd4b07b878"
      },
      "execution_count": 2,
      "outputs": [
        {
          "output_type": "stream",
          "name": "stdout",
          "text": [
            "Среднеквадратичная ошибка (MSE): 250.0\n",
            "Средняя абсолютная ошибка (MAE): 15.0\n"
          ]
        }
      ]
    },
    {
      "cell_type": "markdown",
      "source": [
        "При анализе качества моделей машинного обучения часто используются различные показатели для оценки их эффективности. В нашем случае представлены два таких показателя: среднеквадратическая ошибка (MSE) и средняя абсолютная ошибка (MAE).\n",
        "\n",
        "***Среднеквадратичная ошибка (MSE)***\n",
        "\n",
        "Определение: MSE измеряет средний квадрат разностей между прогнозируемыми и фактическими значениями. Это позволяет акцентировать внимание на больших ошибках, поскольку они возводятся в квадрат.\n",
        "\n",
        "Формула:\n",
        "\n",
        "![MSE.png](data:image/png;base64,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)\n",
        "\n",
        "Наше значение: MSE = 250,0. Это указывает на то, что в среднем квадраты ошибок между прогнозами и реальными значениями достаточно велики.\n",
        "\n",
        "***Средняя абсолютная ошибка (MAE)***\n",
        "\n",
        "Определение: MAE измеряет среднее значение абсолютных ошибок между прогнозируемыми и фактическими значениями. Эта метрика более устойчива к выбросам по сравнению с MSE.\n",
        "\n",
        "Формула:\n",
        "\n",
        "![MAE.png](data:image/png;base64,iVBORw0KGgoAAAANSUhEUgAAAKYAAABBCAIAAADUq0gaAAAAAXNSR0IArs4c6QAAAARnQU1BAACxjwv8YQUAAAAJcEhZcwAADsMAAA7DAcdvqGQAAAUxSURBVHhe7Zw9euo6EIaVuxag4GEFZgUmzanSprPL0NBRpqOBErq0qdIctIJ4BTwU2Hvhzkgy/kE2EvFJYo3eBv8xGvuTRiPJ8HA+n5mHEv+pTw8ZvOTk8JKTw0tODi85Obzk5PCSk4OY5BmPpw8PMZefD9NNpk4QgpbkWcoWb+tg97pii8/zPlKHaUFL8kEYsr/vSbTchgPGPw6T0UCdIQS5vjw9JtGfEDb4x27yZ8g3nFpspyY5CB2Mh2JzHOxmz6dHaO+08Msq5CAX2D1OSI5DLpLjrbvoveTZJp4OZ7uEZPJ9F/2WHPRejRafDQPsbIPTLZa4Hy36LfngZYsj7AYGL0tVF4J1CmnqDVIiUzNup2/hNl0H8JnMn2833kG4EBe7jtuSY0t/sxD98YmA5q5LjqLLvj6ZD2MuDzUC136+uJ4Gui85EG5lN72b3RSdAM5Ifji1xe28U9/N/PidqXS1p+yjICi63yCIWlJzKbph+u4wPZfcjh6JLl2N9v/AUVPJ8zFrtFcHBNKxQOeZOFW+WjfqrVr7DvT30QbcyHdXESwSnmm6l5/qaCOWHpq38n0EVBqIFFz/9OSjrZ7CY8UR2PuR1mYr+ndLnsKDLmSGvZulW3ponL5lJzYeq21Btnl+n0QBy5efy/D4dQxVtJpTZacDk28nCIbj4EfmxYtM7nem74OwPKMIe10PG00lz/6+s9HjOEiOqTzAV+9Py/EhCZ4e6x5lm1e2fAlHE7WvSI+Jqh48nsYcxsDbi/7fSj4986X0Xb4vmdcaHnc0P/+PzFZQrf0WMr5cgjHsQmCsRmoFtCF5rBa584AqaIyqqrPQYRO8biPdMbCpC5si+AoTl1Ow03hTptxp1jKwG0quehRwAD+VqijPlT9F34OuF6dLFxt0TyaIeqBHXdEG+mMkUssDLd0hXNV8T6IsPbpvmZrNafFQh5nkYFT4gL5Ha1UC7tSLQm/LXJ6p7uIfBN0xElxc2uR4cVOieSpavmCG3izQYNmyQCPJC5tC0mK7VlK17MJzoHZxY0PHLzXQ8I07EIWYCV6/qSpoCOyk67YpIHsszbZ5qMEkfYPULX/pBNJsFi1FCsk/dnikAFL4+USeE6RHtQFgtn7JzzMezw7XWZ8Akjrl2RVdZa48Hs7ZOu0idxxAinr4iFdskfsmEq6vDgWuzQKdWBao59mMaBJAPcSIg5emh+NH3L0MKVWIFweguoqdEqZtrHPQL6t40dqG8DlUz1o2OT3XZoFGy5ZFGqZvrmAtePsDhbpcr7td5KYas0BbZ2hTJonFU0W2mc520b6rDgL6Jwi9tf4BfwMzYpzfH4C1ZoGvW1bQkRxTjSTad9GFi/cop6vTYqurPfgbmOE9pbSbBe62XEW19l6CXZ4M1EUqoU7VEZf+WALxq+ix5GL5AaXE9R7MGrGj1qt6RxfuLn1P38piwrZWVwvBm0y4RM/7crE6p+YC8EelmtE+j2e7YP1mlLOhOefpt+Q4SZQv3lZme3KskvSMr+bJtQ3nUK29n5TiMHbqsA15XBGYZXpnifM5Xq8lx076opDI2cvvO94luPtd+dn/pQA5KM2+eQQUJIcc7va7ROKf4H7n23AdQ0Hy/JdmYkKziqwKIHecssrLnA7jvOSlZWbNWrwcvYmXSq/f03UU5yXHH43r3rumi/uBPT0yNSfXGNhp4X5gL5aZGwM7LSikb7eXmbHDH84TuJJAw/dTMeSg0Mo9Fbzk5PCSk8NLTg4vOTm85OTwkpPDS04OLzkxGPsfZqvyOG+yb5AAAAAASUVORK5CYII=)\n",
        "\n",
        "\n",
        "Наше значение: MAE = 15,0. Это означает, что в среднем наши прогнозы отличаются от фактических значений на 15 единиц.\n",
        "\n",
        "Если сравнивать MSE и MAE, то MSE более чувствителен к большим ошибкам, в то время как MAE дает более «ровную» оценку.\n",
        "\n",
        "В нашем случае высокое значение MSE по сравнению с MAE может указывать на наличие выбросов или значительных ошибок в некоторых прогнозах."
      ],
      "metadata": {
        "id": "uS2YuQ-C0LtT"
      }
    },
    {
      "cell_type": "markdown",
      "source": [
        "**Семинар 1**"
      ],
      "metadata": {
        "id": "_2AtWssT0Pha"
      }
    },
    {
      "cell_type": "code",
      "source": [
        "# Загрузка датасета\n",
        "from sklearn import datasets\n",
        "df = datasets.load_breast_cancer()\n",
        "\n"
      ],
      "metadata": {
        "id": "PzbZ2gP90S48"
      },
      "execution_count": null,
      "outputs": []
    }
  ]
}